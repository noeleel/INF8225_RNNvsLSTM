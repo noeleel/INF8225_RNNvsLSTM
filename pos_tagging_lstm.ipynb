{
 "cells": [
  {
   "cell_type": "code",
   "execution_count": 1,
   "metadata": {},
   "outputs": [],
   "source": [
    "import nltk\n",
    "import torch\n",
    "import torch.autograd as autograd\n",
    "import torch.nn as nn\n",
    "import torch.nn.functional as F\n",
    "import torch.optim as optim\n",
    "import matplotlib.pyplot as plt\n",
    "import numpy as np\n",
    "import random"
   ]
  },
  {
   "cell_type": "code",
   "execution_count": 2,
   "metadata": {},
   "outputs": [],
   "source": [
    "#nltk.download('brown')"
   ]
  },
  {
   "cell_type": "code",
   "execution_count": 3,
   "metadata": {},
   "outputs": [],
   "source": [
    "tagged_sent = nltk.corpus.brown.tagged_sents()"
   ]
  },
  {
   "cell_type": "code",
   "execution_count": 4,
   "metadata": {},
   "outputs": [],
   "source": [
    "#shaping data [(sentence,tags),(sentence,tags)...]\n",
    "data_set=[]\n",
    "untag_sent = []\n",
    "for sentence in tagged_sent :\n",
    "    words=[]\n",
    "    tags=[]\n",
    "    words = [w[0] for w in sentence]\n",
    "    tags = [w[1] for w in sentence]\n",
    "    untag_sent.append(words)\n",
    "    data_set.append((words,tags))\n",
    "\n",
    "#spliting the data : training 60%, validation 25%, test 15%\n",
    "train_length = int(0.6*len(data_set))\n",
    "val_length = int(0.85*len(data_set))\n",
    "\n",
    "training_set = data_set[:5000]\n",
    "untag_training_set = untag_sent[:5000]\n",
    "\n",
    "validation_set = data_set[5000:6000]\n",
    "untag_validation_set = untag_sent[5000:6000]\n",
    "\n",
    "test_set = data_set[6000:6500]\n",
    "untag_test_set = untag_sent[6000:6500]"
   ]
  },
  {
   "cell_type": "code",
   "execution_count": 5,
   "metadata": {},
   "outputs": [],
   "source": [
    "#creates one dictionary of all the tags and an other of all the words in the corpus\n",
    "word_to_ix = {}\n",
    "tag_dic ={}\n",
    "for sent, tags in data_set:\n",
    "    for word in sent:\n",
    "        if word not in word_to_ix:\n",
    "            word_to_ix[word] = len(word_to_ix)\n",
    "    for tag in tags :\n",
    "        if tag not in tag_dic :\n",
    "            tag_dic[tag] = len(tag_dic)\n",
    "\n",
    "#shaping the data\n",
    "def prepare_sequence(seq, to_ix):\n",
    "    #turn the words of a sentence into its word dictionary index\n",
    "    idxs = [to_ix[w] for w in seq]\n",
    "    tensor = torch.LongTensor(idxs)\n",
    "    return autograd.Variable(tensor)\n",
    "\n",
    "EMBEDDING_DIM = 300\n",
    "HIDDEN_DIM = 200"
   ]
  },
  {
   "cell_type": "code",
   "execution_count": 6,
   "metadata": {},
   "outputs": [],
   "source": [
    "# from http://pytorch.org/tutorials/beginner/nlp/sequence_models_tutorial.html\n",
    "\n",
    "class LSTMTagger(nn.Module):\n",
    "    \n",
    "    def __init__(self, embedding_dim, hidden_dim, vocab_size, target_size):\n",
    "        super(LSTMTagger, self).__init__()\n",
    "        self.hidden_dim = hidden_dim\n",
    "        \n",
    "        self.word_embedding = nn.Embedding(vocab_size, embedding_dim)\n",
    "        \n",
    "        self.lstm = nn.LSTM(embedding_dim, hidden_dim)\n",
    "        \n",
    "        self.hidden2tag = nn.Linear(hidden_dim, target_size)\n",
    "        self.hidden = self.init_hidden()\n",
    "        \n",
    "    def init_hidden(self):\n",
    "        return(autograd.Variable(torch.zeros(1, 1, self.hidden_dim)),\n",
    "              autograd.Variable(torch.zeros(1, 1, self.hidden_dim)))\n",
    "    \n",
    "    def forward(self, sentence):\n",
    "        embeds = self.word_embedding(sentence)\n",
    "        lstm_out, self.hidden = self.lstm(embeds.view(len(sentence), 1, -1), self.hidden)\n",
    "        tag_space = self.hidden2tag(lstm_out.view(len(sentence), -1))\n",
    "        tag_scores = F.log_softmax(tag_space, dim=1)\n",
    "        return(tag_scores)"
   ]
  },
  {
   "cell_type": "code",
   "execution_count": 7,
   "metadata": {},
   "outputs": [
    {
     "name": "stdout",
     "output_type": "stream",
     "text": [
      "epoch\n",
      "validation\n",
      "epoch\n",
      "validation\n",
      "epoch\n",
      "validation\n",
      "epoch\n",
      "validation\n",
      "epoch\n",
      "validation\n",
      "epoch\n",
      "validation\n",
      "epoch\n",
      "validation\n",
      "epoch\n",
      "validation\n",
      "epoch\n",
      "validation\n",
      "[0.27676299816228656, 0.2374921345335825, 0.2232369500004202, 0.20674750768803202, 0.20364730706576595, 0.20119954494844722, 0.19963245342819644, 0.1958968172350318, 0.19808479360307635]\n",
      "0.21381244849162656\n"
     ]
    }
   ],
   "source": [
    "model = LSTMTagger(EMBEDDING_DIM, HIDDEN_DIM, len(word_to_ix), len(tag_dic))\n",
    "loss_function = nn.NLLLoss()\n",
    "optimizer = optim.SGD(model.parameters(), lr=0.1)\n",
    "\n",
    "loss = 0\n",
    "#average accuracy of each validation set\n",
    "validation_accuracy = []\n",
    "#store the loss after each iteration\n",
    "total_loss=[]\n",
    "for epoch in range(9): \n",
    "    print('epoch')\n",
    "    #shuffle data\n",
    "    np.random.shuffle(training_set)\n",
    "    np.random.shuffle(validation_set)\n",
    "    #training loop\n",
    "    for sentence, tags in training_set:\n",
    "        #clear the gradient before each instance\n",
    "        model.zero_grad()\n",
    "        #clear out the hidden state of the lstm\n",
    "        #detaching it from its history on the last instance\n",
    "        model.hidden = model.init_hidden()\n",
    "        \n",
    "        #get the inputs ready for the network : turn them into variable of word indices\n",
    "        sentence_in = prepare_sequence(sentence, word_to_ix)\n",
    "        targets = prepare_sequence(tags, tag_dic)\n",
    "        \n",
    "        #forward pass\n",
    "        tag_scores = model(sentence_in)\n",
    "        #to get the rigth prediction, choose the index of the max for each row\n",
    "        #_,tag_pred = torch.max(tag_scores,dim = 1)\n",
    "\n",
    "        #compute the loss, gradient, and update the parameters \n",
    "        loss = loss_function(tag_scores, targets) #tag_scores ou tag_pred ???????\n",
    "        loss.backward()\n",
    "        optimizer.step()\n",
    "        total_loss.append(loss)\n",
    "        \n",
    "    print('validation')\n",
    "    #validation loop\n",
    "    error_rate = 0\n",
    "    for sentence, tags in validation_set :\n",
    "        model.zero_grad()\n",
    "        model.hidden = model.init_hidden()\n",
    "        sentence_in = prepare_sequence(sentence, word_to_ix)\n",
    "        #making predictions\n",
    "        _,tags_predictions = torch.max(model(sentence_in), dim=1)\n",
    "\n",
    "        #computing targets\n",
    "        targets = prepare_sequence(tags, tag_dic)\n",
    "        \n",
    "        #list in wich we store the rigth predictions for the given setence\n",
    "        sentence_prediction = []\n",
    "        \n",
    "        for i in range(len(targets)) :\n",
    "            #for each word, one if it's the good tag, 0 otherwise\n",
    "            sentence_prediction.append(int(targets[i]==tags_predictions[i]))\n",
    "            \n",
    "        #sum of the errors\n",
    "        error_rate += (len(sentence_prediction)-sum(sentence_prediction))/len(sentence_prediction)\n",
    "    \n",
    "    #error_rate\n",
    "    validation_accuracy.append(error_rate/len(validation_set))\n",
    "\n",
    "print(validation_accuracy)\n",
    "\n",
    "#predictions on the test set\n",
    "test_error_rate = 0\n",
    "for sentence, tags in test_set :\n",
    "        model.zero_grad()\n",
    "        model.hidden = model.init_hidden()\n",
    "        sentence_in = prepare_sequence(sentence, word_to_ix)\n",
    "        #making the predictions\n",
    "        _,tags_predictions = torch.max(model(sentence_in), dim=1)\n",
    "\n",
    "        #computing the accuracy\n",
    "        targets = prepare_sequence(tags, tag_dic)\n",
    "        \n",
    "        sentence_prediction = []\n",
    "        \n",
    "        for i in range(len(targets)) :\n",
    "            #for each word, one if it's the good tag, 0 otherwise\n",
    "            sentence_prediction.append(int(targets[i]==tags_predictions[i]))\n",
    "        test_error_rate += (len(sentence_prediction)-sum(sentence_prediction))/len(sentence_prediction)\n",
    "        \n",
    "test_error_rate = test_error_rate/len(test_set)\n",
    "print(test_error_rate)\n",
    "#inputs = prepare_sequence(untag_test_set[1], word_to_ix)\n",
    "#tag_scores = model(inputs)\n",
    "#print(tag_scores)"
   ]
  },
  {
   "cell_type": "code",
   "execution_count": 8,
   "metadata": {},
   "outputs": [
    {
     "data": {
      "text/plain": [
       "[<matplotlib.lines.Line2D at 0x7fead58386d8>]"
      ]
     },
     "execution_count": 8,
     "metadata": {},
     "output_type": "execute_result"
    },
    {
     "data": {
      "image/png": "[encoded data removed]",
      "text/plain": [
       "<matplotlib.figure.Figure at 0x7feb2f6f4710>"
      ]
     },
     "metadata": {},
     "output_type": "display_data"
    }
   ],
   "source": [
    "plt.plot(validation_accuracy)"
   ]
  },
  {
   "cell_type": "code",
   "execution_count": null,
   "metadata": {},
   "outputs": [],
   "source": []
  }
 ],
 "metadata": {
  "kernelspec": {
   "display_name": "Python 3",
   "language": "python",
   "name": "python3"
  },
  "language_info": {
   "codemirror_mode": {
    "name": "ipython",
    "version": 3
   },
   "file_extension": ".py",
   "mimetype": "text/x-python",
   "name": "python",
   "nbconvert_exporter": "python",
   "pygments_lexer": "ipython3",
   "version": "3.5.2"
  }
 },
 "nbformat": 4,
 "nbformat_minor": 2
}
