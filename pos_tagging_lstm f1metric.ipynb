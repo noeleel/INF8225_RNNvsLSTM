{
 "cells": [
  {
   "cell_type": "code",
   "execution_count": 1,
   "metadata": {},
   "outputs": [],
   "source": [
    "import nltk\n",
    "import torch\n",
    "import torch.autograd as autograd\n",
    "import torch.nn as nn\n",
    "import torch.nn.functional as F\n",
    "import torch.optim as optim\n",
    "import matplotlib.pyplot as plt\n",
    "import numpy as np\n",
    "import random\n",
    "import sklearn"
   ]
  },
  {
   "cell_type": "code",
   "execution_count": 2,
   "metadata": {},
   "outputs": [],
   "source": [
    "#nltk.download('brown')"
   ]
  },
  {
   "cell_type": "code",
   "execution_count": 3,
   "metadata": {},
   "outputs": [],
   "source": [
    "tagged_sent = nltk.corpus.brown.tagged_sents()"
   ]
  },
  {
   "cell_type": "code",
   "execution_count": 4,
   "metadata": {},
   "outputs": [],
   "source": [
    "#shaping data [(sentence,tags),(sentence,tags)...]\n",
    "data_set=[]\n",
    "untag_sent = []\n",
    "for sentence in tagged_sent :\n",
    "    words=[]\n",
    "    tags=[]\n",
    "    words = [w[0] for w in sentence]\n",
    "    tags = [w[1] for w in sentence]\n",
    "    untag_sent.append(words)\n",
    "    data_set.append((words,tags))\n",
    "\n",
    "#spliting the data : training 60%, validation 25%, test 15%\n",
    "train_length = int(0.6*len(data_set))\n",
    "val_length = int(0.85*len(data_set))\n",
    "\n",
    "training_set = data_set[:500]\n",
    "#untag_training_set = untag_sent[:500]\n",
    "\n",
    "validation_set = data_set[500:600]\n",
    "#untag_validation_set = untag_sent[500:600]\n",
    "\n",
    "test_set = data_set[600:700]\n",
    "#untag_test_set = untag_sent[6000:6500]"
   ]
  },
  {
   "cell_type": "code",
   "execution_count": 5,
   "metadata": {},
   "outputs": [],
   "source": [
    "#creates one dictionary of all the tags and an other of all the words in the corpus\n",
    "word_to_ix = {}\n",
    "tag_dic ={}\n",
    "for sent, tags in data_set:\n",
    "    for word in sent:\n",
    "        if word not in word_to_ix:\n",
    "            word_to_ix[word] = len(word_to_ix)\n",
    "    for tag in tags :\n",
    "        if tag not in tag_dic :\n",
    "            tag_dic[tag] = len(tag_dic)\n",
    "\n",
    "#shaping the data\n",
    "def prepare_sequence(seq, to_ix):\n",
    "    #turn the words of a sentence into its word dictionary index\n",
    "    idxs = [to_ix[w] for w in seq]\n",
    "    tensor = torch.LongTensor(idxs)\n",
    "    return autograd.Variable(tensor)\n",
    "\n",
    "EMBEDDING_DIM = 300\n",
    "HIDDEN_DIM = 200"
   ]
  },
  {
   "cell_type": "code",
   "execution_count": 6,
   "metadata": {},
   "outputs": [],
   "source": [
    "# from http://pytorch.org/tutorials/beginner/nlp/sequence_models_tutorial.html\n",
    "\n",
    "class LSTMTagger(nn.Module):\n",
    "    \n",
    "    def __init__(self, embedding_dim, hidden_dim, vocab_size, target_size):\n",
    "        super(LSTMTagger, self).__init__()\n",
    "        self.hidden_dim = hidden_dim\n",
    "        \n",
    "        self.word_embedding = nn.Embedding(vocab_size, embedding_dim)\n",
    "        \n",
    "        self.lstm = nn.LSTM(embedding_dim, hidden_dim)\n",
    "        \n",
    "        self.hidden2tag = nn.Linear(hidden_dim, target_size)\n",
    "        self.hidden = self.init_hidden()\n",
    "        \n",
    "    def init_hidden(self):\n",
    "        return(autograd.Variable(torch.zeros(1, 1, self.hidden_dim)),\n",
    "              autograd.Variable(torch.zeros(1, 1, self.hidden_dim)))\n",
    "    \n",
    "    def forward(self, sentence):\n",
    "        embeds = self.word_embedding(sentence)\n",
    "        lstm_out, self.hidden = self.lstm(embeds.view(len(sentence), 1, -1), self.hidden)\n",
    "        tag_space = self.hidden2tag(lstm_out.view(len(sentence), -1))\n",
    "        tag_scores = F.log_softmax(tag_space, dim=1)\n",
    "        return(tag_scores)"
   ]
  },
  {
   "cell_type": "code",
   "execution_count": 7,
   "metadata": {},
   "outputs": [
    {
     "name": "stdout",
     "output_type": "stream",
     "text": [
      "epoch\n",
      "validation\n",
      "epoch\n",
      "validation\n",
      "epoch\n",
      "validation\n",
      "epoch\n",
      "validation\n",
      "epoch\n",
      "validation\n"
     ]
    },
    {
     "data": {
      "text/plain": [
       "Text(0,0.5,'f1 score')"
      ]
     },
     "execution_count": 7,
     "metadata": {},
     "output_type": "execute_result"
    },
    {
     "data": {
      "image/png": "[encoded data removed]",
      "text/plain": [
       "<matplotlib.figure.Figure at 0x7f9607b36fd0>"
      ]
     },
     "metadata": {},
     "output_type": "display_data"
    }
   ],
   "source": [
    "model = LSTMTagger(EMBEDDING_DIM, HIDDEN_DIM, len(word_to_ix), len(tag_dic))\n",
    "loss_function = nn.NLLLoss()\n",
    "optimizer = optim.SGD(model.parameters(), lr=0.1)\n",
    "\n",
    "loss = 0\n",
    "#average accuracy of each validation set\n",
    "validation_f1score = []\n",
    "#store the loss after each iteration\n",
    "#total_loss=[]\n",
    "for epoch in range(5): \n",
    "    print('epoch')\n",
    "    #shuffle data\n",
    "    np.random.shuffle(training_set)\n",
    "    np.random.shuffle(validation_set)\n",
    "    #training loop\n",
    "    for sentence, tags in training_set:\n",
    "        #clear the gradient before each instance\n",
    "        model.zero_grad()\n",
    "        #clear out the hidden state of the lstm\n",
    "        #detaching it from its history on the last instance\n",
    "        model.hidden = model.init_hidden()\n",
    "        \n",
    "        #get the inputs ready for the network : turn them into variable of word indices\n",
    "        sentence_in = prepare_sequence(sentence, word_to_ix)\n",
    "        targets = prepare_sequence(tags, tag_dic)\n",
    "        \n",
    "        #forward pass\n",
    "        tag_scores = model(sentence_in)\n",
    "        #to get the rigth prediction, choose the index of the max for each row\n",
    "        #_,tag_pred = torch.max(tag_scores,dim = 1)\n",
    "\n",
    "        #compute the loss, gradient, and update the parameters \n",
    "        loss = loss_function(tag_scores, targets) #tag_scores ou tag_pred ???????\n",
    "        loss.backward()\n",
    "        optimizer.step()\n",
    "        #total_loss.append(loss)\n",
    "        \n",
    "    print('validation')\n",
    "    #validation loop\n",
    "    #store the f1 score of each sentence\n",
    "    sent_f1score = []\n",
    "    for sentence, tags in validation_set :\n",
    "        model.zero_grad()\n",
    "        model.hidden = model.init_hidden()\n",
    "        sentence_in = prepare_sequence(sentence, word_to_ix)\n",
    "        #making predictions\n",
    "        _,tags_predictions = torch.max(model(sentence_in), dim=1)\n",
    "\n",
    "        #computing targets\n",
    "        targets = prepare_sequence(tags, tag_dic)\n",
    "        \n",
    "        #list in wich we store the rigth predictions for the given setence\n",
    "        sentence_prediction = []\n",
    "        \n",
    "        for i in range(len(targets)) :\n",
    "            #for each word, one if it's the good tag, 0 otherwise\n",
    "            sentence_prediction.append(int(targets[i]==tags_predictions[i]))\n",
    "            \n",
    "        #computing the f1 score over the validation set\n",
    "        array_target = targets.data.numpy()\n",
    "        array_pred = tags_predictions.data.numpy()\n",
    "        sent_f1score.append(sklearn.metrics.f1_score(array_target,array_pred,average='micro'))\n",
    "                                                     \n",
    "    validation_f1score.append(np.average(sent_f1score))    \n",
    "plt.plot(validation_f1score)\n",
    "plt.xlabel('epoch')\n",
    "plt.ylabel('f1 score')"
   ]
  },
  {
   "cell_type": "code",
   "execution_count": 8,
   "metadata": {},
   "outputs": [
    {
     "name": "stdout",
     "output_type": "stream",
     "text": [
      "test f1 score\n",
      "0.6553041602828245\n"
     ]
    }
   ],
   "source": [
    "#predictions on the test set\n",
    "#test_error_rate = 0\n",
    "test_sent_f1score = []\n",
    "for sentence, tags in test_set :\n",
    "        model.zero_grad()\n",
    "        model.hidden = model.init_hidden()\n",
    "        sentence_in = prepare_sequence(sentence, word_to_ix)\n",
    "        #making the predictions\n",
    "        _,tags_predictions = torch.max(model(sentence_in), dim=1)\n",
    "\n",
    "        #computing the f1 score\n",
    "        targets = prepare_sequence(tags, tag_dic)\n",
    "        \n",
    "        sentence_prediction = []\n",
    "        \n",
    "        for i in range(len(targets)) :\n",
    "            #for each word, one if it's the good tag, 0 otherwise\n",
    "            sentence_prediction.append(int(targets[i]==tags_predictions[i]))\n",
    "            \n",
    "        #convert tags and predictions to the numpy array\n",
    "        array_target = targets.data.numpy()\n",
    "        array_pred = tags_predictions.data.numpy()\n",
    "        #store the f1 score of each sentence\n",
    "        test_sent_f1score.append(sklearn.metrics.f1_score(array_target,array_pred,average='micro'))\n",
    "\n",
    "f1_score = np.average(test_sent_f1score)\n",
    "print('test f1 score')\n",
    "print(f1_score)"
   ]
  },
  {
   "cell_type": "code",
   "execution_count": null,
   "metadata": {},
   "outputs": [],
   "source": []
  }
 ],
 "metadata": {
  "kernelspec": {
   "display_name": "Python 3",
   "language": "python",
   "name": "python3"
  },
  "language_info": {
   "codemirror_mode": {
    "name": "ipython",
    "version": 3
   },
   "file_extension": ".py",
   "mimetype": "text/x-python",
   "name": "python",
   "nbconvert_exporter": "python",
   "pygments_lexer": "ipython3",
   "version": "3.5.2"
  }
 },
 "nbformat": 4,
 "nbformat_minor": 2
}
